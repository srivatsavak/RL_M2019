{
 "cells": [
  {
   "cell_type": "code",
   "execution_count": 1,
   "metadata": {},
   "outputs": [],
   "source": [
    "import numpy as np\n",
    "import matplotlib.pyplot as plt"
   ]
  },
  {
   "cell_type": "code",
   "execution_count": 2,
   "metadata": {},
   "outputs": [],
   "source": [
    "grid_h = 4\n",
    "grid_w = 12\n",
    "\n",
    "𝞮 = 0.1\n",
    "𝜶 = 0.5\n",
    "𝞬 = 1\n",
    "\n",
    "up = 0\n",
    "down = 1\n",
    "left = 2\n",
    "right = 3\n",
    "actions = [[-1,0], [1,0], [0,-1], [0,1]]\n",
    "\n",
    "S = [grid_h-1, 0]\n",
    "G = [grid_h-1, grid_w-1]"
   ]
  },
  {
   "cell_type": "code",
   "execution_count": 3,
   "metadata": {},
   "outputs": [],
   "source": [
    "def move_agent(state, action):\n",
    "    x, y = state\n",
    "    if action == up:\n",
    "        if x == 0:\n",
    "            next_state = [x,y] \n",
    "        else:\n",
    "            next_state = [x-1,y]\n",
    "    elif action == left:\n",
    "        if y == 0:\n",
    "            next_state = [x,y] \n",
    "        else:\n",
    "            next_state = [x,y-1]\n",
    "    elif action == right:\n",
    "        if y == 11:\n",
    "            next_state = [x,y] \n",
    "        else:\n",
    "            next_state = [x,y+1]\n",
    "    elif action == down:\n",
    "        if x == 3:\n",
    "            next_state = [x,y] \n",
    "        else:\n",
    "            next_state = [x+1,y]\n",
    "    reward = -1\n",
    "    if (action == down and x == 2 and 1 <= y <= 10) or (action == right and state == S):\n",
    "        reward = -100\n",
    "        next_state = S\n",
    "    return next_state, reward"
   ]
  },
  {
   "cell_type": "code",
   "execution_count": 4,
   "metadata": {},
   "outputs": [],
   "source": [
    "def choose_action(s, Q):\n",
    "    i,j = s\n",
    "    if np.random.binomial(1, 𝞮):\n",
    "        return np.random.choice([0,1,2,3])\n",
    "    else:\n",
    "        values_ = Q[i,j,:]\n",
    "        return np.random.choice([a for a, v in enumerate(values_) if v == np.max(values_)])"
   ]
  },
  {
   "cell_type": "code",
   "execution_count": 5,
   "metadata": {},
   "outputs": [],
   "source": [
    "def sarsa(Q, 𝜶):\n",
    "    s = S\n",
    "    rewards = 0.0\n",
    "    while s != G:\n",
    "        i,j = s\n",
    "        A = choose_action(s, Q) #Choose A from S using policy derived from Q\n",
    "        S_, R = move_agent(s, A)\n",
    "        i_, j_ = S_\n",
    "        A_ = choose_action(S_, Q)\n",
    "        rewards += R\n",
    "        Q[i,j, A] += 𝜶 * (R + 𝞬*Q[i_, j_ , A_] - Q[i,j, A])\n",
    "        s = S_\n",
    "    return rewards"
   ]
  },
  {
   "cell_type": "code",
   "execution_count": 6,
   "metadata": {},
   "outputs": [],
   "source": [
    "def q_learning(Q, 𝜶):\n",
    "    s = S\n",
    "    rewards = 0.0\n",
    "    while s != G:\n",
    "        i,j = s\n",
    "        A = choose_action(s, Q) #Choose A from S using policy derived from Q\n",
    "        S_, R = move_agent(s, A)\n",
    "        i_, j_ = S_\n",
    "        rewards += R\n",
    "        Q[i,j, A] += 𝜶 * (R + 𝞬*np.max(Q[i_, j_ , :]) - Q[i,j, A])\n",
    "        s = S_\n",
    "    return rewards"
   ]
  },
  {
   "cell_type": "code",
   "execution_count": 7,
   "metadata": {},
   "outputs": [],
   "source": [
    "def simulate():\n",
    "    episodes = 500\n",
    "    runs = 500\n",
    "    rewards_sarsa = np.array([0]*episodes)\n",
    "    rewards_ql = np.array([0]*episodes)\n",
    "    for i in range(runs):\n",
    "        Q_sarsa = np.zeros((grid_h, grid_w, 4))\n",
    "        Q_ql = np.zeros((grid_h, grid_w, 4))\n",
    "        for j in range(episodes):\n",
    "            rewards_sarsa[j] += sarsa(Q_sarsa, 0.5)\n",
    "            rewards_ql[j] += q_learning(Q_ql, 0.5)\n",
    "    plt.plot(rewards_sarsa/runs, label='Sarsa')\n",
    "    plt.plot(rewards_ql/runs, label='Q-Learning')\n",
    "    plt.xlabel('Episodes')\n",
    "    plt.ylabel('Sum of rewards during episode')\n",
    "    plt.ylim([-100, 0])\n",
    "    plt.legend()\n",
    "\n",
    "    plt.savefig('cliff.png')\n",
    "    plt.close()"
   ]
  },
  {
   "cell_type": "code",
   "execution_count": 8,
   "metadata": {},
   "outputs": [],
   "source": [
    "simulate()"
   ]
  },
  {
   "cell_type": "code",
   "execution_count": null,
   "metadata": {},
   "outputs": [],
   "source": []
  },
  {
   "cell_type": "code",
   "execution_count": null,
   "metadata": {},
   "outputs": [],
   "source": []
  },
  {
   "cell_type": "code",
   "execution_count": null,
   "metadata": {},
   "outputs": [],
   "source": []
  },
  {
   "cell_type": "code",
   "execution_count": null,
   "metadata": {},
   "outputs": [],
   "source": []
  }
 ],
 "metadata": {
  "kernelspec": {
   "display_name": "Python 3",
   "language": "python",
   "name": "python3"
  },
  "language_info": {
   "codemirror_mode": {
    "name": "ipython",
    "version": 3
   },
   "file_extension": ".py",
   "mimetype": "text/x-python",
   "name": "python",
   "nbconvert_exporter": "python",
   "pygments_lexer": "ipython3",
   "version": "3.7.4"
  }
 },
 "nbformat": 4,
 "nbformat_minor": 2
}
