{
 "cells": [
  {
   "cell_type": "code",
   "execution_count": 1,
   "metadata": {},
   "outputs": [],
   "source": [
    "import numpy as np\n",
    "import matplotlib.pyplot as plt"
   ]
  },
  {
   "cell_type": "code",
   "execution_count": 2,
   "metadata": {},
   "outputs": [],
   "source": [
    "values = np.zeros(7)\n",
    "values[1:6] = 0.5\n",
    "values[6] = 1\n",
    "\n",
    "true_values = np.zeros(7)\n",
    "for i in range(1,6):\n",
    "    true_values[i] = i/6.\n",
    "true_values[6] = 1\n",
    "\n",
    "left = 0\n",
    "right = 1"
   ]
  },
  {
   "cell_type": "code",
   "execution_count": 3,
   "metadata": {},
   "outputs": [],
   "source": [
    "def TD(values, 𝜶):\n",
    "    new_state = 3 #Start from state C\n",
    "    path = [new_state]\n",
    "    rewards = [0]\n",
    "    while True:\n",
    "        state = new_state\n",
    "        if np.random.binomial(1, 0.5): #Move to left or right with equal probability\n",
    "            new_state += 1\n",
    "        else:\n",
    "            new_state -= 1\n",
    "        reward = 0\n",
    "        path.append(new_state)\n",
    "        values[state] += 𝜶 * (reward + values[new_state] - values[state]) #v(s) = v[s] + 𝜶(r + v[s'] - v[s])\n",
    "        if new_state == 6 or new_state == 0: #Terminate on reaching terminal states\n",
    "            break\n",
    "        rewards.append(reward)\n",
    "    return path, rewards"
   ]
  },
  {
   "cell_type": "code",
   "execution_count": 4,
   "metadata": {},
   "outputs": [],
   "source": [
    "def MC(values, 𝜶):\n",
    "    state = 3 #Start from state C\n",
    "    path = [state]\n",
    "    while True:\n",
    "        if np.random.binomial(1, 0.5): #Move to left or right with equal probability\n",
    "            state += 1\n",
    "        else:\n",
    "            state -= 1\n",
    "        path.append(state)\n",
    "        #No individual rewards for each step. Returns expected only at the end of episode\n",
    "        if state == 6: #Returns on reaching the right terminal state is 1\n",
    "            returns = 1.0\n",
    "            break\n",
    "        elif state == 0:\n",
    "            returns = 0.0 #Returns on reaching the right terminal state is 0\n",
    "            break\n",
    "    for s_ in path[:len(path)]:\n",
    "        values[s_] += 𝜶 * (returns - values[s_]) #v[s] = v[s] + 𝜶*(G - v[s])\n",
    "    return path, [returns] * (len(path) - 1)"
   ]
  },
  {
   "cell_type": "code",
   "execution_count": 8,
   "metadata": {},
   "outputs": [],
   "source": [
    "def compute_V():\n",
    "    episodes = [0,1,10,100]\n",
    "    current_v = np.copy(values)\n",
    "    for i in range(101):\n",
    "        if i in episodes:\n",
    "            if i == 1:\n",
    "                plt.plot(current_v, label=str(i) + ' episode')\n",
    "            else:\n",
    "                plt.plot(current_v, label=str(i) + ' episodes')\n",
    "        TD(current_v, 0.1)\n",
    "    plt.plot(true_values, label='true')\n",
    "    plt.xlim([1,5])\n",
    "    plt.xlabel('State')\n",
    "    plt.ylabel('Estimated value')\n",
    "    plt.legend()\n",
    "    plt.savefig('1.png')\n",
    "    plt.close()"
   ]
  },
  {
   "cell_type": "code",
   "execution_count": 9,
   "metadata": {},
   "outputs": [],
   "source": [
    "def rms_error():\n",
    "    td_𝜶 = [0.05, 0.1, 0.15]\n",
    "    mc_𝜶 = [0.01, 0.02, 0.03, 0.04]\n",
    "    episodes = 101\n",
    "    runs = 100\n",
    "    for 𝜶 in td_𝜶:\n",
    "        errors = np.zeros(episodes)\n",
    "        for i in range(runs):\n",
    "            current_v = np.copy(values)\n",
    "            for j in range(episodes):\n",
    "                errors[j] += (np.sum((true_values-current_v)**2)/5.0)**0.5\n",
    "                TD(current_v, 𝜶)\n",
    "        plt.plot(errors/runs, linestyle='solid', label='TD' + ', ' +  r'$\\alpha$' + ' = %.02f' % (𝜶))        \n",
    "    for 𝜶 in mc_𝜶:\n",
    "        errors = np.zeros(episodes)\n",
    "        for i in range(runs):\n",
    "            current_v = np.copy(values)\n",
    "            for j in range(episodes):\n",
    "                errors[j] += (np.sum((true_values-current_v)**2)/5.0)**0.5\n",
    "                MC(current_v, 𝜶)\n",
    "        plt.plot(errors/runs, linestyle='dashdot', label='MC' + ', ' +  r'$\\alpha$' + ' = %.02f' % (𝜶))     \n",
    "    plt.xlabel('episodes')\n",
    "    plt.ylabel('RMS')\n",
    "    plt.legend()\n",
    "    plt.savefig('2.png')\n",
    "    plt.close()"
   ]
  },
  {
   "cell_type": "code",
   "execution_count": 10,
   "metadata": {},
   "outputs": [],
   "source": [
    "compute_V()\n",
    "rms_error()"
   ]
  },
  {
   "cell_type": "code",
   "execution_count": null,
   "metadata": {},
   "outputs": [],
   "source": []
  },
  {
   "cell_type": "code",
   "execution_count": null,
   "metadata": {},
   "outputs": [],
   "source": []
  },
  {
   "cell_type": "code",
   "execution_count": null,
   "metadata": {},
   "outputs": [],
   "source": []
  },
  {
   "cell_type": "code",
   "execution_count": null,
   "metadata": {},
   "outputs": [],
   "source": []
  }
 ],
 "metadata": {
  "kernelspec": {
   "display_name": "Python 3",
   "language": "python",
   "name": "python3"
  },
  "language_info": {
   "codemirror_mode": {
    "name": "ipython",
    "version": 3
   },
   "file_extension": ".py",
   "mimetype": "text/x-python",
   "name": "python",
   "nbconvert_exporter": "python",
   "pygments_lexer": "ipython3",
   "version": "3.7.4"
  }
 },
 "nbformat": 4,
 "nbformat_minor": 2
}
