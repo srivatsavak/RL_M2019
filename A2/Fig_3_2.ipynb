{
 "cells": [
  {
   "cell_type": "code",
   "execution_count": 133,
   "metadata": {},
   "outputs": [],
   "source": [
    "import numpy as np"
   ]
  },
  {
   "cell_type": "code",
   "execution_count": 134,
   "metadata": {},
   "outputs": [],
   "source": [
    "𝞬 = 0.9\n",
    "θ = 1e-4\n",
    "actions = [[0,-1],[-1,0],[0,1],[1,0]] #Left, Up, Right, Down respectively\n",
    "action_prob = 1/len(actions)"
   ]
  },
  {
   "cell_type": "code",
   "execution_count": 135,
   "metadata": {},
   "outputs": [],
   "source": [
    "def getNextState(state, action):\n",
    "    if state == [0,1]:\n",
    "        return [4,1], 10\n",
    "    elif state == [0,3]:\n",
    "        return [2,3], 5\n",
    "    else:\n",
    "        x,y = (np.array(state)+np.array(action)).tolist() #change to next state\n",
    "        if x<0 or x>=5 or y<0 or y>=5:\n",
    "            reward = -1.0 #with a negative reward\n",
    "            x,y = state\n",
    "        else: #no penalty or reward if it goes off the grid\n",
    "            reward = 0\n",
    "        return (x,y), reward"
   ]
  },
  {
   "cell_type": "code",
   "execution_count": 136,
   "metadata": {},
   "outputs": [],
   "source": [
    "def myFunc():\n",
    "    val = np.zeros((5,5))\n",
    "    while True:\n",
    "        val_ = np.zeros((5,5))\n",
    "        for i in range(5):\n",
    "            for j in range(5):\n",
    "                for a in actions: #for each action in a set of actions \n",
    "                    (i_, j_), reward = getNextState([i, j], a)\n",
    "                    val_[i, j] += action_prob*(reward+(𝞬*val[i_, j_])) #new_val = Σp(s',r|s,a)[r+𝞬*old_val(s')]\n",
    "        Δ = abs(val - val_).max()\n",
    "        if Δ < θ: #run until the following condition is met\n",
    "            print(np.round(val_, decimals=1))\n",
    "            break\n",
    "        val = val_"
   ]
  },
  {
   "cell_type": "code",
   "execution_count": 137,
   "metadata": {},
   "outputs": [
    {
     "name": "stdout",
     "output_type": "stream",
     "text": [
      "[[ 3.3  8.8  4.4  5.3  1.5]\n",
      " [ 1.5  3.   2.3  1.9  0.5]\n",
      " [ 0.1  0.7  0.7  0.4 -0.4]\n",
      " [-1.  -0.4 -0.4 -0.6 -1.2]\n",
      " [-1.9 -1.3 -1.2 -1.4 -2. ]]\n"
     ]
    }
   ],
   "source": [
    "myFunc()"
   ]
  },
  {
   "cell_type": "code",
   "execution_count": null,
   "metadata": {},
   "outputs": [],
   "source": []
  },
  {
   "cell_type": "code",
   "execution_count": null,
   "metadata": {},
   "outputs": [],
   "source": []
  },
  {
   "cell_type": "code",
   "execution_count": null,
   "metadata": {},
   "outputs": [],
   "source": []
  },
  {
   "cell_type": "code",
   "execution_count": null,
   "metadata": {},
   "outputs": [],
   "source": []
  },
  {
   "cell_type": "code",
   "execution_count": null,
   "metadata": {},
   "outputs": [],
   "source": []
  }
 ],
 "metadata": {
  "kernelspec": {
   "display_name": "Python 3",
   "language": "python",
   "name": "python3"
  },
  "language_info": {
   "codemirror_mode": {
    "name": "ipython",
    "version": 3
   },
   "file_extension": ".py",
   "mimetype": "text/x-python",
   "name": "python",
   "nbconvert_exporter": "python",
   "pygments_lexer": "ipython3",
   "version": "3.7.4"
  }
 },
 "nbformat": 4,
 "nbformat_minor": 2
}
