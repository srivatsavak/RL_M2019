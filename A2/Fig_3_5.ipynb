{
 "cells": [
  {
   "cell_type": "code",
   "execution_count": 32,
   "metadata": {},
   "outputs": [],
   "source": [
    "import numpy as np"
   ]
  },
  {
   "cell_type": "code",
   "execution_count": 33,
   "metadata": {},
   "outputs": [],
   "source": [
    "𝞬 = 0.9\n",
    "θ = 1e-4\n",
    "actions = [[0,-1],[-1,0],[0,1],[1,0]] #Left, Up, Right, Down respectively\n",
    "action_prob = 1/len(actions)"
   ]
  },
  {
   "cell_type": "code",
   "execution_count": 34,
   "metadata": {},
   "outputs": [],
   "source": [
    "def getNextState(state, action):\n",
    "    if state == [0,1]:\n",
    "        return [4,1], 10\n",
    "    elif state == [0,3]:\n",
    "        return [2,3], 5\n",
    "    else:\n",
    "        x,y = (np.array(state)+np.array(action)).tolist() #Change to next state\n",
    "        if x<0 or x>=5 or y<0 or y>=5:\n",
    "            reward = -1.0 #with a negative reward\n",
    "            x,y = state\n",
    "        else: #no penalty or reward if it goes off the grid\n",
    "            reward = 0\n",
    "        return (x,y), reward"
   ]
  },
  {
   "cell_type": "code",
   "execution_count": 35,
   "metadata": {},
   "outputs": [],
   "source": [
    "def myFunc():\n",
    "    val = np.zeros((5,5))\n",
    "    while True:\n",
    "        val_ = np.zeros((5,5))\n",
    "        for i in range(5):\n",
    "            for j in range(5):\n",
    "                values = []\n",
    "                for a in actions: #for each action in a set of Actions\n",
    "                    (i_, j_), reward = getNextState([i, j], np.array(a)) #new state and reward\n",
    "                    values.append(reward+(𝞬*val[i_, j_]))\n",
    "                val_[i, j] = np.max(values) #new_val = max Σp(s',r|s,a)[r+𝞬*old_val(s')]\n",
    "        Δ = abs(val - val_).max()\n",
    "        if Δ < θ: #run until the following condition is met\n",
    "            print(np.round(val_, decimals=1))\n",
    "            break\n",
    "        val = val_"
   ]
  },
  {
   "cell_type": "code",
   "execution_count": 36,
   "metadata": {},
   "outputs": [
    {
     "name": "stdout",
     "output_type": "stream",
     "text": [
      "[[22.  24.4 22.  19.4 17.5]\n",
      " [19.8 22.  19.8 17.8 16. ]\n",
      " [17.8 19.8 17.8 16.  14.4]\n",
      " [16.  17.8 16.  14.4 13. ]\n",
      " [14.4 16.  14.4 13.  11.7]]\n"
     ]
    }
   ],
   "source": [
    "myFunc()"
   ]
  },
  {
   "cell_type": "code",
   "execution_count": null,
   "metadata": {},
   "outputs": [],
   "source": []
  },
  {
   "cell_type": "code",
   "execution_count": null,
   "metadata": {},
   "outputs": [],
   "source": []
  },
  {
   "cell_type": "code",
   "execution_count": null,
   "metadata": {},
   "outputs": [],
   "source": []
  },
  {
   "cell_type": "code",
   "execution_count": null,
   "metadata": {},
   "outputs": [],
   "source": []
  }
 ],
 "metadata": {
  "kernelspec": {
   "display_name": "Python 3",
   "language": "python",
   "name": "python3"
  },
  "language_info": {
   "codemirror_mode": {
    "name": "ipython",
    "version": 3
   },
   "file_extension": ".py",
   "mimetype": "text/x-python",
   "name": "python",
   "nbconvert_exporter": "python",
   "pygments_lexer": "ipython3",
   "version": "3.7.4"
  }
 },
 "nbformat": 4,
 "nbformat_minor": 2
}
