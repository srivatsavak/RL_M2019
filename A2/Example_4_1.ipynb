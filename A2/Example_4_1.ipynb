{
 "cells": [
  {
   "cell_type": "code",
   "execution_count": 140,
   "metadata": {},
   "outputs": [],
   "source": [
    "import numpy as np"
   ]
  },
  {
   "cell_type": "code",
   "execution_count": 141,
   "metadata": {},
   "outputs": [],
   "source": [
    "𝞬 = 1 #undiscounted\n",
    "θ = 1e-4\n",
    "actions = [[0,-1],[-1,0],[0,1],[1,0]] #Left, Up, Right, Down respectively\n",
    "action_prob = 1/len(actions)"
   ]
  },
  {
   "cell_type": "code",
   "execution_count": 142,
   "metadata": {},
   "outputs": [],
   "source": [
    "def getNextState(state, action):\n",
    "    x, y = state\n",
    "    if (x == 0 and y == 0) or (x == 3 and y == 3):\n",
    "        return (x,y), 0\n",
    "    else:\n",
    "        x,y = (np.array(state)+np.array(action)).tolist()\n",
    "        if x<0 or x>=4 or y<0 or y>=4:      \n",
    "            x,y = state\n",
    "        return (x,y), -1.0"
   ]
  },
  {
   "cell_type": "code",
   "execution_count": 143,
   "metadata": {},
   "outputs": [],
   "source": [
    "def policyIter():\n",
    "    val_ = np.array([0,1,2,3,4,5,6,7,8,9,10,11,12,13,14,0]).reshape(4,4)\n",
    "    #val_ = np.zeros((4,4))\n",
    "    iteration = 0\n",
    "    while True:\n",
    "        val = val_\n",
    "        temp = val.copy()\n",
    "        for i in range(4):\n",
    "            for j in range(4):\n",
    "                value = 0\n",
    "                for a in actions:\n",
    "                    (i_, j_), r = getNextState([i, j], a)\n",
    "                    value += action_prob*(r + 𝞬*val[i_, j_]) #new_val = Σp(s',r|s,a)[r+𝞬*old_val(s')]\n",
    "                val_[i, j] = value\n",
    "        Δ = abs(temp - val_).max()\n",
    "        if Δ < θ: #run until the following condition is met\n",
    "            print(np.round(val_, decimals=1))\n",
    "            break\n",
    "        iteration += 1"
   ]
  },
  {
   "cell_type": "code",
   "execution_count": 144,
   "metadata": {},
   "outputs": [
    {
     "name": "stdout",
     "output_type": "stream",
     "text": [
      "[[  0  -6  -9 -10]\n",
      " [ -6  -8  -9  -9]\n",
      " [ -9  -9  -8  -6]\n",
      " [-10  -9  -6   0]]\n"
     ]
    }
   ],
   "source": [
    "policyIter()"
   ]
  },
  {
   "cell_type": "code",
   "execution_count": 145,
   "metadata": {},
   "outputs": [],
   "source": [
    "def valIter(in_place=True):\n",
    "    val_ = np.array([0,1,2,3,4,5,6,7,8,9,10,11,12,13,14,0]).reshape(4,4)\n",
    "    #val_ = np.zeros((4,4))\n",
    "    iteration = 0\n",
    "    while True:\n",
    "        val = val_\n",
    "        temp = val.copy()\n",
    "        for i in range(4):\n",
    "            for j in range(4):\n",
    "                values = []\n",
    "                for a in actions:\n",
    "                    (i_, j_), r = getNextState([i, j], np.array(a)) #new state and reward\n",
    "                    values.append(action_prob * (r + 𝞬 * val[i_, j_])) \n",
    "                val_[i, j] = np.max(values) #new_val = max Σp(s',r|s,a)[r+𝞬*old_val(s')]\n",
    "        Δ = abs(temp - val_).max()\n",
    "        print (val_)\n",
    "        print()\n",
    "        if Δ < θ: #run until the following condition is met\n",
    "            print(np.round(val_, decimals=1))\n",
    "            break\n",
    "        iteration += 1"
   ]
  },
  {
   "cell_type": "code",
   "execution_count": 146,
   "metadata": {},
   "outputs": [
    {
     "name": "stdout",
     "output_type": "stream",
     "text": [
      "[[0 1 1 1]\n",
      " [1 2 2 2]\n",
      " [2 3 3 2]\n",
      " [3 3 3 0]]\n",
      "\n",
      "[[0 0 0 0]\n",
      " [0 0 0 0]\n",
      " [0 0 0 0]\n",
      " [0 0 0 0]]\n",
      "\n",
      "[[0 0 0 0]\n",
      " [0 0 0 0]\n",
      " [0 0 0 0]\n",
      " [0 0 0 0]]\n",
      "\n",
      "[[0 0 0 0]\n",
      " [0 0 0 0]\n",
      " [0 0 0 0]\n",
      " [0 0 0 0]]\n"
     ]
    }
   ],
   "source": [
    "valIter()"
   ]
  },
  {
   "cell_type": "code",
   "execution_count": null,
   "metadata": {},
   "outputs": [],
   "source": []
  },
  {
   "cell_type": "code",
   "execution_count": null,
   "metadata": {},
   "outputs": [],
   "source": []
  },
  {
   "cell_type": "code",
   "execution_count": null,
   "metadata": {},
   "outputs": [],
   "source": []
  }
 ],
 "metadata": {
  "kernelspec": {
   "display_name": "Python 3",
   "language": "python",
   "name": "python3"
  },
  "language_info": {
   "codemirror_mode": {
    "name": "ipython",
    "version": 3
   },
   "file_extension": ".py",
   "mimetype": "text/x-python",
   "name": "python",
   "nbconvert_exporter": "python",
   "pygments_lexer": "ipython3",
   "version": "3.7.4"
  }
 },
 "nbformat": 4,
 "nbformat_minor": 2
}
